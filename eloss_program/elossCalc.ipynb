{
 "cells": [
  {
   "cell_type": "markdown",
   "metadata": {},
   "source": [
    "Energy Loss & Event Detection Program"
   ]
  },
  {
   "cell_type": "code",
   "execution_count": 1,
   "metadata": {},
   "outputs": [
    {
     "ename": "SyntaxError",
     "evalue": "(unicode error) 'unicodeescape' codec can't decode bytes in position 2-3: truncated \\UXXXXXXXX escape (2688175888.py, line 7)",
     "output_type": "error",
     "traceback": [
      "\u001b[1;36m  Cell \u001b[1;32mIn[1], line 7\u001b[1;36m\u001b[0m\n\u001b[1;33m    with open('C:\\Users\\alyd2\\OneDrive\\Desktop\\Research - Main PC\\.venv\\eloss_program\\eloss_config.json') as f:\u001b[0m\n\u001b[1;37m              ^\u001b[0m\n\u001b[1;31mSyntaxError\u001b[0m\u001b[1;31m:\u001b[0m (unicode error) 'unicodeescape' codec can't decode bytes in position 2-3: truncated \\UXXXXXXXX escape\n"
     ]
    }
   ],
   "source": [
    "import json\n",
    "import numpy as np\n",
    "import pandas as pd\n",
    "import spyral_utils.nuclear.target as spytar\n",
    "import spyral_utils.nuclear as spynuc\n",
    "\n",
    "with open('C:\\Users\\alyd2\\OneDrive\\Desktop\\Research - Main PC\\.venv\\eloss_program\\eloss_config.json') as f:\n",
    "  data = json.load(f)"
   ]
  },
  {
   "cell_type": "code",
   "execution_count": null,
   "metadata": {},
   "outputs": [],
   "source": [
    "# DEFINE TARGET MATERIAL\n",
    "print(\"TARGET MEDIUM: PROPANE GAS\\n\")\n",
    "targ = spytar.load_target()\n",
    "\n",
    "\n",
    "# DEFINE PROJECTILE \n",
    "print(\"PROJECTILE: PROTON\\n\")\n",
    "proj = spynuc.get_data(zbeam_entry, mbeam_entry)\n",
    "\n",
    "# DEFINE EXPERIMENTAL ENERGY RANGE\n",
    "Exp_Emin = 0.                            # define minimum projectile energy (MeV/u)\n",
    "Exp_Emax = 25.                           # define maximum projectile energy (MeV/u)\n",
    "Exp_stepsize = 50                       # define step size for energy distribution points\n",
    "Exp_Erange = np.linspace(Exp_Emin,Exp_Emax,num=Exp_stepsize)\n",
    "\n",
    "\n",
    "# INITIALIZE DATA STORAGE\n",
    "proj_ranges = []\n",
    "event_validities = []"
   ]
  },
  {
   "cell_type": "code",
   "execution_count": 3,
   "metadata": {},
   "outputs": [
    {
     "ename": "IndentationError",
     "evalue": "expected an indented block after 'if' statement on line 27 (3571356288.py, line 31)",
     "output_type": "error",
     "traceback": [
      "\u001b[1;36m  Cell \u001b[1;32mIn[3], line 31\u001b[1;36m\u001b[0m\n\u001b[1;33m    x_intersect = x0 + vx * t\u001b[0m\n\u001b[1;37m    ^\u001b[0m\n\u001b[1;31mIndentationError\u001b[0m\u001b[1;31m:\u001b[0m expected an indented block after 'if' statement on line 27\n"
     ]
    }
   ],
   "source": [
    "#  FUNCTION: TEST IF WE SEE THE EVENT\n",
    "\n",
    "def test_event_validity(x0,y0,z0,vx,vy,vz,range):\n",
    "    # Parametric equations of the particle's path:\n",
    "    # x(t) = x0 + vx * t\n",
    "    # y(t) = y0 + vy * t\n",
    "    # z(t) = z0 + vz * t\n",
    "\n",
    "    # Cylindrical surface boundary:\n",
    "    # x^2 + y^2 = R^2\n",
    "\n",
    "    #Finding the quadratic roots:\n",
    "    a = vx**2 + vy**2\n",
    "    b = 2 * (x0 * vx + y0 * vy)\n",
    "    c = x0**2 + y0**2 - R**2\n",
    "\n",
    "    discriminant = b**2 - 4*a*c\n",
    "    if discriminant < 0: \n",
    "        return False\n",
    "    \n",
    "    t1 = -b + np.sqrt(discriminant) / (2*a)\n",
    "    t2 = -b - np.sqrt(discriminant) / (2*a)\n",
    "\n",
    "    # Remove the t that is negative, as it's trajectory was in the wrong direction\n",
    "    for i in [t1,t2]:\n",
    "        if i > 0: t = i\n",
    "    \n",
    "    # Calculate intersection point\n",
    "    x_intersect = x0 + vx * t\n",
    "    y_intersect = y0 + vy * t\n",
    "    z_intersect = z0 + vz * t\n",
    "\n",
    "    # Check z bound\n",
    "    if z_intersect < 0 or z_intersect > H:\n",
    "        return False\n",
    "    \n",
    "    # Calculate geometric distance\n",
    "    geo_dist = np.sqrt((x_intersect - x0)**2 + (y_intersect - y0)**2 + (z_intersect - z0)**2)\n",
    "\n",
    "    # Check if it'll hit the wall \n",
    "    return geo_dist <= range\n"
   ]
  },
  {
   "cell_type": "code",
   "execution_count": null,
   "metadata": {},
   "outputs": [],
   "source": [
    "# CALCULATE ENERGY RANGE AND TEST EVENT:\n",
    "for i in Exp_Erange:\n",
    "    range = spytar.GasTarget.get_range(proj,i) # calculate results for projectile with energy i\n",
    "    proj_ranges.append(range) \n",
    "    event_validities.append(test_event_validity(x0,y0,z0,vx,vy,vz,range))"
   ]
  }
 ],
 "metadata": {
  "kernelspec": {
   "display_name": "Python 3",
   "language": "python",
   "name": "python3"
  },
  "language_info": {
   "codemirror_mode": {
    "name": "ipython",
    "version": 3
   },
   "file_extension": ".py",
   "mimetype": "text/x-python",
   "name": "python",
   "nbconvert_exporter": "python",
   "pygments_lexer": "ipython3",
   "version": "3.12.4"
  }
 },
 "nbformat": 4,
 "nbformat_minor": 2
}
